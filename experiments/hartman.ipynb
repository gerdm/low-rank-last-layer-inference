{
 "cells": [
  {
   "cell_type": "markdown",
   "id": "ab5efd90-5643-4542-bf93-12058aeca047",
   "metadata": {},
   "source": [
    "## Hartman 6d function"
   ]
  },
  {
   "cell_type": "code",
   "execution_count": 1,
   "id": "387a00b6-3d0d-4ae8-a037-e62cc49a41a0",
   "metadata": {},
   "outputs": [],
   "source": [
    "import jax\n",
    "import numpy as np\n",
    "import seaborn as sns\n",
    "import flax.linen as nn\n",
    "import jax.numpy as jnp\n",
    "import matplotlib.pyplot as plt\n",
    "\n",
    "from functools import partial\n",
    "from jaxopt import ProjectedGradient\n",
    "from rebayes_mini.methods import low_rank_last_layer as lrll"
   ]
  },
  {
   "cell_type": "code",
   "execution_count": 2,
   "id": "159890fc-f767-4d23-8d74-2faa65f264b1",
   "metadata": {},
   "outputs": [],
   "source": [
    "%load_ext autoreload\n",
    "%autoreload 2"
   ]
  },
  {
   "cell_type": "code",
   "execution_count": 3,
   "id": "6c6af57b-44b2-4e28-bc44-4f72c954836b",
   "metadata": {},
   "outputs": [],
   "source": [
    "sns.set_palette(\"colorblind\")"
   ]
  },
  {
   "cell_type": "code",
   "execution_count": 4,
   "id": "634e1f0b-4a7a-4841-ad22-bdc809b3cdd9",
   "metadata": {},
   "outputs": [],
   "source": [
    "%config InlineBackend.figure_format = \"retina\"\n",
    "plt.rcParams[\"figure.figsize\"] = (7.2, 4.2)"
   ]
  },
  {
   "cell_type": "code",
   "execution_count": 5,
   "id": "eb94ecde-498b-49c2-af7b-9da034b731d8",
   "metadata": {},
   "outputs": [],
   "source": [
    "jnp.set_printoptions(suppress=True, precision=5, linewidth=200)"
   ]
  },
  {
   "cell_type": "code",
   "execution_count": 6,
   "id": "bed66451-bd12-4d0f-be8b-89499b23feb1",
   "metadata": {},
   "outputs": [
    {
     "name": "stdout",
     "output_type": "stream",
     "text": [
      "-0.1961809\n"
     ]
    }
   ],
   "source": [
    "def hartmann6(x):\n",
    "    \"\"\"\n",
    "    Evaluates the 6-dimensional Hartmann function at point x.\n",
    "    :param x: A numpy array of shape (6,)\n",
    "    :return: Function value at x\n",
    "    \"\"\"\n",
    "    # Coefficients\n",
    "    alpha = jnp.array([1.0, 1.2, 3.0, 3.2])\n",
    "    A = jnp.array([\n",
    "        [10, 3, 17, 3.50, 1.7, 8],\n",
    "        [0.05, 10, 17, 0.1, 8, 14],\n",
    "        [3, 3.5, 1.7, 10, 17, 8],\n",
    "        [17, 8, 0.05, 10, 0.1, 14]\n",
    "    ])\n",
    "    P = 1e-4 * jnp.array([\n",
    "        [1312, 1696, 5569, 124, 8283, 5886],\n",
    "        [2329, 4135, 8307, 3736, 1004, 9991],\n",
    "        [2348, 1451, 3522, 2883, 3047, 6650],\n",
    "        [4047, 8828, 8732, 5743, 1091, 381]\n",
    "    ])\n",
    "    \n",
    "    # Compute function value\n",
    "    sum_terms = jnp.sum(A * (x - P) ** 2, axis=1)\n",
    "    exp_terms = jnp.exp(-sum_terms)\n",
    "    result = -jnp.sum(alpha * exp_terms)\n",
    "    \n",
    "    return result\n",
    "\n",
    "# Example usage:\n",
    "x_test = jnp.array([0.2, 0.4, 0.6, 0.8, 0.3, 0.5])\n",
    "x_opt = jnp.array([0.20169, 0.150011, 0.476874, 0.275332, 0.311652, 0.6573])\n",
    "\n",
    "print(hartmann6(x_test))"
   ]
  },
  {
   "cell_type": "code",
   "execution_count": 7,
   "id": "21702c46-9f2d-4a28-b6b0-ff88024b29a1",
   "metadata": {},
   "outputs": [
    {
     "name": "stdout",
     "output_type": "stream",
     "text": [
      "-3.322363\n"
     ]
    }
   ],
   "source": [
    "x_opt = jnp.array([0.20169, 0.150011, 0.476874, 0.275332, 0.311652, 0.6573])\n",
    "print(hartmann6(x_opt))"
   ]
  },
  {
   "cell_type": "markdown",
   "id": "2f02fc74-895c-403c-8d57-6071c152023b",
   "metadata": {},
   "source": [
    "## The BNN surrogate model"
   ]
  },
  {
   "cell_type": "code",
   "execution_count": 8,
   "id": "bfe265bc-bdf4-42da-b7b9-537237487894",
   "metadata": {},
   "outputs": [],
   "source": [
    "class MLP(nn.Module):\n",
    "    n_hidden: int = 180\n",
    "\n",
    "    @nn.compact\n",
    "    def __call__(self, x):\n",
    "        x = nn.Dense(self.n_hidden)(x)\n",
    "        # x = jnp.sin(x)\n",
    "        x = nn.elu(x)\n",
    "        x = nn.Dense(self.n_hidden)(x)\n",
    "        x = nn.elu(x)\n",
    "        x = nn.Dense(self.n_hidden)(x)\n",
    "        x = nn.elu(x)\n",
    "        x = nn.Dense(1, name=\"last_layer\")(x)\n",
    "        return x"
   ]
  },
  {
   "cell_type": "code",
   "execution_count": 9,
   "id": "953df1e9-33c0-4be3-b2e4-a735fcce7ffc",
   "metadata": {},
   "outputs": [],
   "source": [
    "def projection(params, hparams):\n",
    "    return jnp.clip(params, 0.0, 1.0)\n",
    "\n",
    "\n",
    "def minimise_project(guess_init, params_hidden, params_ll, agent):\n",
    "    fn_sampled = lambda x: -agent.mean_fn(params_hidden, params_ll, x).squeeze()\n",
    "    opt = ProjectedGradient(\n",
    "        fun=fn_sampled,\n",
    "        projection=projection,  # Enforce boundary constraints\n",
    "        stepsize=1e-5,\n",
    "        tol=1e-5,\n",
    "        maxiter=1000,\n",
    "    )\n",
    "    res = opt.run(guess_init)\n",
    "    return res\n",
    "\n",
    "def step(state, t, key, agent, guess_init=None):\n",
    "    bel, x, y, y_best = state\n",
    "    key_step = jax.random.fold_in(key, t)\n",
    "    key_step, key_guess = jax.random.split(key_step)\n",
    "    guess_init = x_test\n",
    "    # guess_init = jax.random.uniform(key_step, shape=(6,), minval=0, maxval=1)\n",
    "\n",
    "    ll_params = agent.sample_params_last_layer(key_step, bel).squeeze()\n",
    "    # compute location of next best estimate and actual estimate\n",
    "    x_next = minimise_project(guess_init, bel.mean_hidden, ll_params, agent).params\n",
    "    y_next = -hartmann6(x_next).squeeze()\n",
    "    # update belief based on true observations\n",
    "    bel = agent.update(bel, y_next.squeeze(), x_next)\n",
    "\n",
    "    y_best = y_next * (y_next > y_best) + y_best * (y_next <= y_best)\n",
    "\n",
    "    out = {\n",
    "        \"x\": x_next.squeeze(),\n",
    "        \"y\": y_next.squeeze(),\n",
    "        \"y_best\": y_best.squeeze()\n",
    "    }\n",
    "\n",
    "    state_next = (bel, x_next, y_next, y_best)\n",
    "    return state_next, out"
   ]
  },
  {
   "cell_type": "markdown",
   "id": "97256412-1deb-4b76-8d73-c3aefb22430e",
   "metadata": {},
   "source": [
    "## Optimise!"
   ]
  },
  {
   "cell_type": "code",
   "execution_count": 146,
   "id": "39b65014-0198-4fa9-95df-a6ea2af11e2f",
   "metadata": {},
   "outputs": [],
   "source": [
    "key = jax.random.PRNGKey(314)\n",
    "key_init_params, key_init_x, key_eval = jax.random.split(key, 3)"
   ]
  },
  {
   "cell_type": "code",
   "execution_count": 168,
   "id": "32b2bdf1-2ac7-408e-a5ab-466d9132c99d",
   "metadata": {},
   "outputs": [],
   "source": [
    "surrogate = MLP()\n",
    "params_init = surrogate.init(key_init_params, x_test)\n",
    "\n",
    "def cov_fn(y): return 0.0\n",
    "agent = lrll.LowRankLastLayer(\n",
    "    surrogate.apply, cov_fn, rank=50, dynamics_hidden=0.0, dynamics_last=0.0,\n",
    ")\n",
    "\n",
    "bel_init = agent.init_bel(\n",
    "    params_init,\n",
    "    cov_hidden=1e-3, # parameters do not vary much from their initial parameters\n",
    "    cov_last=1.0 # uncertainty in target\n",
    ")"
   ]
  },
  {
   "cell_type": "code",
   "execution_count": 169,
   "id": "9e01e6b3-8fda-4c68-b378-d13b908a7104",
   "metadata": {},
   "outputs": [],
   "source": [
    "def orthogonal(key, n, m):\n",
    "    z = jax.random.normal(key, (max(n, m), min(n, m)))\n",
    "    q, r = jnp.linalg.qr(z)\n",
    "    d = jnp.linalg.diagonal(r)\n",
    "    x = q * jnp.expand_dims(jnp.sign(d), -2)\n",
    "    return x.T"
   ]
  },
  {
   "cell_type": "code",
   "execution_count": 170,
   "id": "e13afa50-27d4-4885-b3b4-655efe22a0e2",
   "metadata": {},
   "outputs": [],
   "source": [
    "bel_init = bel_init.replace(\n",
    "    loading_hidden=W * 1e-6\n",
    ")"
   ]
  },
  {
   "cell_type": "code",
   "execution_count": 171,
   "id": "03f8278d-ba64-42e0-bb02-4edc381b9220",
   "metadata": {},
   "outputs": [],
   "source": [
    "x_next = jax.random.uniform(key_init_x, shape=(6,), minval=0, maxval=1)\n",
    "y_next = hartmann6(x_next)"
   ]
  },
  {
   "cell_type": "code",
   "execution_count": 172,
   "id": "9cf00abf-03cb-4eb7-aa10-ba85ad19b6e5",
   "metadata": {},
   "outputs": [],
   "source": [
    "steps = jnp.arange(100)\n",
    "state_init = (bel_init, x_next, y_next, y_next)\n",
    "_eval = partial(step, key=key_eval, agent=agent)\n",
    "bel_final, hist = jax.lax.scan(_eval, state_init, steps)"
   ]
  },
  {
   "cell_type": "code",
   "execution_count": 173,
   "id": "e5d0b440-c7f6-4d42-9db6-619816ee4e77",
   "metadata": {},
   "outputs": [],
   "source": [
    "x_opt = jnp.array([0.20169, 0.150011, 0.476874, 0.275332, 0.311652, 0.6573])\n",
    "y_opt = -hartmann6(x_opt)"
   ]
  },
  {
   "cell_type": "code",
   "execution_count": 178,
   "id": "fa9b757a-97e1-4292-ab03-422990079480",
   "metadata": {},
   "outputs": [
    {
     "data": {
      "image/png": "[encoded data removed]",
      "text/plain": [
       "<Figure size 720x420 with 1 Axes>"
      ]
     },
     "metadata": {
      "image/png": {
       "height": 367,
       "width": 609
      }
     },
     "output_type": "display_data"
    }
   ],
   "source": [
    "plt.plot(hist[\"y_best\"], c=\"black\")\n",
    "plt.axhline(y=y_opt, c=\"crimson\")\n",
    "plt.grid(alpha=0.3)"
   ]
  }
 ],
 "metadata": {
  "kernelspec": {
   "display_name": "Python 3 (ipykernel)",
   "language": "python",
   "name": "python3"
  },
  "language_info": {
   "codemirror_mode": {
    "name": "ipython",
    "version": 3
   },
   "file_extension": ".py",
   "mimetype": "text/x-python",
   "name": "python",
   "nbconvert_exporter": "python",
   "pygments_lexer": "ipython3",
   "version": "3.12.2"
  }
 },
 "nbformat": 4,
 "nbformat_minor": 5
}
