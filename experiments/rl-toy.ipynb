{
 "cells": [
  {
   "cell_type": "code",
   "execution_count": 57,
   "id": "f5c40ce3-65f6-43ea-a8ce-9315b1dd61c4",
   "metadata": {},
   "outputs": [],
   "source": [
    "import jax\n",
    "import gymnax\n",
    "import flax.linen as nn"
   ]
  },
  {
   "cell_type": "code",
   "execution_count": 326,
   "id": "cad413d9-9f39-4ec5-9e11-2b58f8e2ee1d",
   "metadata": {},
   "outputs": [
    {
     "name": "stdout",
     "output_type": "stream",
     "text": [
      "The autoreload extension is already loaded. To reload it, use:\n",
      "  %reload_ext autoreload\n"
     ]
    }
   ],
   "source": [
    "%load_ext autoreload\n",
    "%autoreload 2"
   ]
  },
  {
   "cell_type": "code",
   "execution_count": 2,
   "id": "d548d482-49fa-4525-8da2-0b900e27437f",
   "metadata": {},
   "outputs": [],
   "source": [
    "key = jax.random.PRNGKey(314)"
   ]
  },
  {
   "cell_type": "code",
   "execution_count": 3,
   "id": "76e032fa-dc0d-404f-a8ad-61b03eab2fca",
   "metadata": {},
   "outputs": [],
   "source": [
    "rng, key_reset, key_act, key_step = jax.random.split(key, 4)"
   ]
  },
  {
   "cell_type": "code",
   "execution_count": 4,
   "id": "02231cc2-6ef4-4a57-8a4e-4f0bb672e97e",
   "metadata": {},
   "outputs": [
    {
     "name": "stderr",
     "output_type": "stream",
     "text": [
      "/home/gerardoduran/miniconda3/lib/python3.12/site-packages/jax/_src/ops/scatter.py:93: FutureWarning: scatter inputs have incompatible types: cannot safely cast value from dtype=int32 to dtype=bool with jax_numpy_dtype_promotion='standard'. In future JAX releases this will result in an error.\n",
      "  warnings.warn(\n",
      "/home/gerardoduran/miniconda3/lib/python3.12/site-packages/jax/_src/ops/scatter.py:93: FutureWarning: scatter inputs have incompatible types: cannot safely cast value from dtype=float32 to dtype=bool with jax_numpy_dtype_promotion='standard'. In future JAX releases this will result in an error.\n",
      "  warnings.warn(\n",
      "/home/gerardoduran/miniconda3/lib/python3.12/site-packages/jax/_src/numpy/array_methods.py:122: UserWarning: Explicitly requested dtype <class 'jax.numpy.int64'> requested in astype is not available, and will be truncated to dtype int32. To enable more dtypes, set the jax_enable_x64 configuration option or the JAX_ENABLE_X64 shell environment variable. See https://github.com/jax-ml/jax#current-gotchas for more.\n",
      "  return lax_numpy.astype(self, dtype, copy=copy, device=device)\n"
     ]
    }
   ],
   "source": [
    "# Instantiate the environment & its settings.\n",
    "env, env_params = gymnax.make(\"Breakout-MinAtar\")\n",
    "\n",
    "# Reset the environment.\n",
    "obs, state = env.reset(key_reset, env_params)\n",
    "\n",
    "# Sample a random action.\n",
    "action = env.action_space(env_params).sample(key_act)\n",
    "\n",
    "# Perform the step transition.\n",
    "n_obs, n_state, reward, done, _ = env.step(key_step, state, action, env_params)"
   ]
  },
  {
   "cell_type": "markdown",
   "id": "9b834981-7bfe-4f3e-b1ef-8c6dc5015368",
   "metadata": {},
   "source": [
    "## Could you learn?"
   ]
  },
  {
   "cell_type": "code",
   "execution_count": 6,
   "id": "2b31bf73-c62e-40ee-be4c-ee5fbf50227b",
   "metadata": {},
   "outputs": [],
   "source": [
    "class CNN(nn.Module):\n",
    "    num_actions: int\n",
    "\n",
    "    @nn.compact\n",
    "    def __call__(self, x):\n",
    "        x = x if len(x.shape) > 3 else x[None, :]\n",
    "        x = nn.Conv(features=6, kernel_size=(5, 5))(x)\n",
    "        x = nn.relu(x)\n",
    "        x = nn.avg_pool(x, window_shape=(2, 2), strides=(2, 2), padding=\"VALID\")\n",
    "        x = nn.Conv(features=16, kernel_size=(2, 2), padding=\"VALID\")(x)\n",
    "        x = nn.relu(x)\n",
    "        x = nn.avg_pool(x, window_shape=(2, 2), strides=(2, 2), padding=\"VALID\")\n",
    "        x = x.reshape((x.shape[0], -1))  # Flatten\n",
    "        x = nn.Dense(features=120)(x)\n",
    "        x = nn.relu(x)\n",
    "        x = nn.Dense(features=84)(x)\n",
    "        x = nn.relu(x)\n",
    "        # x = nn.Dense(20, name=\"last_layer\")(x)\n",
    "        # x = nn.relu(x)\n",
    "        x = nn.Dense(self.num_actions, name=\"last_layer\")(x)\n",
    "        return x.squeeze()\n",
    "\n",
    "model = CNN(num_actions=3)"
   ]
  },
  {
   "cell_type": "code",
   "execution_count": 7,
   "id": "61d4576e-c994-4022-961f-0bc1e4bc5bcd",
   "metadata": {},
   "outputs": [],
   "source": [
    "import jax.numpy as jnp"
   ]
  },
  {
   "cell_type": "code",
   "execution_count": 8,
   "id": "595ad76f-e123-4113-8270-1b87b030e607",
   "metadata": {},
   "outputs": [
    {
     "data": {
      "text/plain": [
       "{'params': {'Conv_0': {'bias': (6,), 'kernel': (5, 5, 4, 6)},\n",
       "  'Conv_1': {'bias': (16,), 'kernel': (2, 2, 6, 16)},\n",
       "  'Dense_0': {'bias': (120,), 'kernel': (64, 120)},\n",
       "  'Dense_1': {'bias': (84,), 'kernel': (120, 84)},\n",
       "  'last_layer': {'bias': (3,), 'kernel': (84, 3)}}}"
      ]
     },
     "execution_count": 8,
     "metadata": {},
     "output_type": "execute_result"
    }
   ],
   "source": [
    "params_init = model.init(key, n_obs)\n",
    "jax.tree.map(jnp.shape, params_init)"
   ]
  },
  {
   "cell_type": "code",
   "execution_count": 19,
   "id": "8302aead-675c-402a-83e1-32382ca9300f",
   "metadata": {},
   "outputs": [],
   "source": [
    "from rebayes_mini.methods import low_rank_last_layer as onflow\n",
    "from rebayes_mini.callbacks import get_null"
   ]
  },
  {
   "cell_type": "code",
   "execution_count": 20,
   "id": "cb8ed883-4bca-4b5a-b1a3-361698e04dde",
   "metadata": {},
   "outputs": [],
   "source": [
    "def mean_fn(params, x):\n",
    "    eta = model.apply(params, x)\n",
    "    return jax.nn.softmax(eta)\n",
    "\n",
    "def cov_fn(mean, eps=0.1):\n",
    "    return jnp.diag(mean) - jnp.outer(mean, mean) + jnp.eye(len(mean)) * eps"
   ]
  },
  {
   "cell_type": "code",
   "execution_count": 21,
   "id": "fb1537d2-0759-4b76-aee2-424a6be76a0e",
   "metadata": {},
   "outputs": [],
   "source": [
    "agent = onflow.LowRankLastLayer(\n",
    "    mean_fn,\n",
    "    cov_fn,\n",
    "    rank=5,\n",
    "    dynamics_hidden=0.0,\n",
    "    dynamics_last=0.0\n",
    ")"
   ]
  },
  {
   "cell_type": "code",
   "execution_count": 22,
   "id": "09071a6d-b2a2-4220-b44e-2ec667928405",
   "metadata": {},
   "outputs": [],
   "source": [
    "bel_init = agent.init_bel(params_init)"
   ]
  },
  {
   "cell_type": "code",
   "execution_count": 23,
   "id": "9bfaee1e-2993-474b-b283-4c814b8b334f",
   "metadata": {},
   "outputs": [],
   "source": [
    "bel_next, _ = agent.step(bel_init, action, n_obs, callback_fn=get_null)"
   ]
  },
  {
   "cell_type": "code",
   "execution_count": 24,
   "id": "6160930c-0f66-4db8-b5f7-723fcaaff89e",
   "metadata": {},
   "outputs": [
    {
     "data": {
      "text/plain": [
       "Array([0.6693919 , 0.04068932, 0.46270543], dtype=float32)"
      ]
     },
     "execution_count": 24,
     "metadata": {},
     "output_type": "execute_result"
    }
   ],
   "source": [
    "agent.sample_predictive(key, bel_next, n_obs)"
   ]
  },
  {
   "cell_type": "code",
   "execution_count": 15,
   "id": "d1372370-ee8f-4738-85a2-9a6ba8e69b57",
   "metadata": {},
   "outputs": [
    {
     "name": "stderr",
     "output_type": "stream",
     "text": [
      "/home/gerardoduran/miniconda3/lib/python3.12/site-packages/jax/_src/ops/scatter.py:93: FutureWarning: scatter inputs have incompatible types: cannot safely cast value from dtype=int32 to dtype=bool with jax_numpy_dtype_promotion='standard'. In future JAX releases this will result in an error.\n",
      "  warnings.warn(\n",
      "/home/gerardoduran/miniconda3/lib/python3.12/site-packages/jax/_src/ops/scatter.py:93: FutureWarning: scatter inputs have incompatible types: cannot safely cast value from dtype=float32 to dtype=bool with jax_numpy_dtype_promotion='standard'. In future JAX releases this will result in an error.\n",
      "  warnings.warn(\n",
      "/home/gerardoduran/miniconda3/lib/python3.12/site-packages/jax/_src/numpy/array_methods.py:122: UserWarning: Explicitly requested dtype <class 'jax.numpy.int64'> requested in astype is not available, and will be truncated to dtype int32. To enable more dtypes, set the jax_enable_x64 configuration option or the JAX_ENABLE_X64 shell environment variable. See https://github.com/jax-ml/jax#current-gotchas for more.\n",
      "  return lax_numpy.astype(self, dtype, copy=copy, device=device)\n"
     ]
    }
   ],
   "source": [
    "# Instantiate the environment & its settings.\n",
    "env, env_params = gymnax.make(\"Breakout-MinAtar\")\n",
    "\n",
    "# Reset the environment.\n",
    "obs, state = env.reset(key_reset, env_params)\n",
    "\n",
    "# Sample a random action.\n",
    "action = env.action_space(env_params).sample(key_act)\n",
    "\n",
    "# Perform the step transition.\n",
    "n_obs, n_state, reward, done, _ = env.step(key_step, state, action, env_params)"
   ]
  },
  {
   "cell_type": "markdown",
   "id": "b699aa65-bdf8-4b85-8de8-eb61a53c934a",
   "metadata": {},
   "source": [
    "## Gym lunar lander"
   ]
  },
  {
   "cell_type": "code",
   "execution_count": 667,
   "id": "3b804ed7-bf19-4e84-a586-f88d6a2a67c1",
   "metadata": {},
   "outputs": [],
   "source": [
    "%config InlineBackend.figure_format = \"retina\""
   ]
  },
  {
   "cell_type": "code",
   "execution_count": 111,
   "id": "b5a19008-dae7-4ec6-93de-66d2be980ee7",
   "metadata": {},
   "outputs": [],
   "source": [
    "import gym"
   ]
  },
  {
   "cell_type": "code",
   "execution_count": 195,
   "id": "bfbc48c6-a3ca-4986-b085-7403cd1a571f",
   "metadata": {},
   "outputs": [],
   "source": [
    "import jax\n",
    "import jax.numpy as jnp"
   ]
  },
  {
   "cell_type": "code",
   "execution_count": 646,
   "id": "9e0714fa-cdca-4f07-a636-f579dcfdda75",
   "metadata": {},
   "outputs": [],
   "source": [
    "import matplotlib.pyplot as plt"
   ]
  },
  {
   "cell_type": "code",
   "execution_count": 682,
   "id": "3437b9b8-f4c7-4d97-9e92-16b59d071460",
   "metadata": {},
   "outputs": [],
   "source": [
    "from rebayes_mini.methods import low_rank_filter_revised as lrkf\n",
    "from rebayes_mini.methods import base_filter"
   ]
  },
  {
   "cell_type": "code",
   "execution_count": 683,
   "id": "a29af9d3-f805-4b39-b108-01acb2493a25",
   "metadata": {},
   "outputs": [],
   "source": [
    "env = gym.make(\"LunarLander-v2\")"
   ]
  },
  {
   "cell_type": "code",
   "execution_count": 684,
   "id": "acd0fba7-7b24-4ca2-878a-bf1815b7a97b",
   "metadata": {},
   "outputs": [],
   "source": [
    "class LinearPolicy(nn.Module):\n",
    "    n_actions: int\n",
    "    n_features: int\n",
    "    \n",
    "    @nn.compact\n",
    "    def __call__(self, x):\n",
    "        a = x[..., 0]\n",
    "        x = x[..., 1:]\n",
    "        embedding = nn.Embed(self.n_actions, self.n_features)(a.astype(int))\n",
    "        x = jnp.einsum(\"...j,...j->...\", embedding, x)\n",
    "        return x"
   ]
  },
  {
   "cell_type": "code",
   "execution_count": 685,
   "id": "f82ef26f-1655-48b6-b22f-740f98930a49",
   "metadata": {},
   "outputs": [
    {
     "data": {
      "text/plain": [
       "{'params': {'Embed_0': {'embedding': (4, 8)}}}"
      ]
     },
     "execution_count": 685,
     "metadata": {},
     "output_type": "execute_result"
    }
   ],
   "source": [
    "key = jax.random.PRNGKey(314)\n",
    "X_init = jnp.ones(env.observation_space.shape[0] + 1)\n",
    "model = LinearPolicy(n_actions=env.action_space.n, n_features=env.observation_space.shape[0])\n",
    "params_init = model.init(key, X_init[None, :])\n",
    "jax.tree.map(jnp.shape, params_init)"
   ]
  },
  {
   "cell_type": "code",
   "execution_count": 695,
   "id": "a072e41f-4575-4e0f-bb03-12d07d82cec8",
   "metadata": {},
   "outputs": [],
   "source": [
    "agent = lrkf.LowRankCovarianceFilter(\n",
    "    model.apply,\n",
    "    lambda x: jnp.eye(1) * 1e-3,\n",
    "    dynamics_covariance=1e-3,\n",
    "    rank=32\n",
    ")\n",
    "\n",
    "\n",
    "agent = base_filter.ExtendedFilter(\n",
    "    model.apply,\n",
    "    lambda x: jnp.eye(1) * 1.0,\n",
    "    dynamics_covariance=1e-7\n",
    ")\n",
    "\n",
    "@jax.jit\n",
    "def sample_predictives(key, bel, state):\n",
    "    state = jnp.atleast_1d(state)\n",
    "    actions = jnp.arange(4)\n",
    "    keys = jax.random.split(key, 4)\n",
    "    @jax.vmap\n",
    "    def _sample(key, action):\n",
    "        X = jnp.c_[action, state]\n",
    "        sample = agent.sample_predictive(key, bel_init, X)\n",
    "        return sample\n",
    "    samples = _sample(keys, actions)\n",
    "    return samples"
   ]
  },
  {
   "cell_type": "code",
   "execution_count": 696,
   "id": "c126a598-b260-4a5f-a0f4-2fe9c709899f",
   "metadata": {},
   "outputs": [],
   "source": [
    "from tqdm import tqdm"
   ]
  },
  {
   "cell_type": "code",
   "execution_count": null,
   "id": "7f850d82-87f3-41a3-937b-3c2112807be5",
   "metadata": {},
   "outputs": [
    {
     "name": "stderr",
     "output_type": "stream",
     "text": [
      "EWM: -118.27:  80%|████████████████████████████████████████████████████████████████████▌                 | 3988/5000 [01:39<00:24, 41.31it/s]"
     ]
    }
   ],
   "source": [
    "gamma = 0.999\n",
    "state_prev, _ = env.reset(seed=314)\n",
    "action_prev = 0\n",
    "bel_init = agent.init_bel(params_init, cov=10.0)\n",
    "bel = bel_init\n",
    "\n",
    "steps = 5_000\n",
    "episode_reward = 0.0\n",
    "final_rewards = []\n",
    "ewm_episode = 0.0\n",
    "rewards = np.zeros(steps)\n",
    "\n",
    "for s in (pbar := tqdm(range(steps))):\n",
    "    key_t = jax.random.fold_in(key, s)\n",
    "    action_value_samples = sample_predictives(key_t, bel, state_prev[None, :])\n",
    "    action = action_value_samples.argmax().item()\n",
    "    state_next, reward, terminated, truncated, info = env.step(action)\n",
    "    \n",
    "    if terminated:\n",
    "        _, key_new = jax.random.split(key_t)\n",
    "        state_prev, info = env.reset()\n",
    "        action_value_samples = sample_predictives(key_t, bel, state_prev[None, :])\n",
    "        action = action_value_samples.argmax().item()\n",
    "        final_rewards.append(episode_reward)\n",
    "        ewm_episode = 0.3 * episode_reward + (1 - 0.3) * ewm_episode\n",
    "        pbar.set_description(f\"EWM: {ewm_episode:0.2f}\")\n",
    "        episode_reward = 0.0\n",
    "    else:\n",
    "        rewards[s] = reward\n",
    "        episode_reward += reward\n",
    "    \n",
    "    X_prev = jnp.insert(state_prev, 0, jnp.array([action_prev]))\n",
    "    \n",
    "    X_next = jnp.insert(state_next, 0, jnp.array([action]), 0)\n",
    "    y = reward + gamma * agent.mean_fn(bel.mean, X_next)\n",
    "    \n",
    "    state_prev = state_next\n",
    "    action_prev = action\n",
    "    \n",
    "    # bel = agent.update(bel, bel, y, X_next[None, :])\n",
    "    bel = agent.update(bel, bel, y, X_next[None, :])"
   ]
  },
  {
   "cell_type": "code",
   "execution_count": null,
   "id": "3c9bbe57-424e-42e8-bce3-b7c25ec82cb6",
   "metadata": {},
   "outputs": [],
   "source": [
    "plt.plot(np.array(final_rewards))"
   ]
  },
  {
   "cell_type": "code",
   "execution_count": 618,
   "id": "fef44506-e1b7-46ba-bfa8-016f4a2bf448",
   "metadata": {},
   "outputs": [],
   "source": [
    "action_value_samples = sample_predictives(key, bel, state_prev[None, :])\n",
    "action = action_value_samples.argmax().item()"
   ]
  },
  {
   "cell_type": "code",
   "execution_count": 619,
   "id": "10775bf5-5742-400b-b5b4-716bb68c2ebc",
   "metadata": {},
   "outputs": [],
   "source": [
    "state_next, reward, terminated, truncated, info = env.step(action)"
   ]
  },
  {
   "cell_type": "code",
   "execution_count": 620,
   "id": "48f62909-ebf8-43ae-a9eb-8e527b3e08aa",
   "metadata": {},
   "outputs": [],
   "source": [
    "X_prev = jnp.insert(observation_next, 0, jnp.array([action_prev]))\n",
    "yhat = agent.mean_fn(bel_init.mean, X_prev)"
   ]
  },
  {
   "cell_type": "code",
   "execution_count": 621,
   "id": "39d16554-835c-4780-977f-4150043e881c",
   "metadata": {},
   "outputs": [],
   "source": [
    "X_next = jnp.insert(observation_next, 0, jnp.array([action]), 0)\n",
    "y = reward + gamma * agent.mean_fn(bel_init.mean, X_next)\n",
    "state_prev = state_next"
   ]
  },
  {
   "cell_type": "code",
   "execution_count": 622,
   "id": "dd1d3a9d-8027-4f11-8a31-93e58572970d",
   "metadata": {},
   "outputs": [
    {
     "data": {
      "text/plain": [
       "np.float64(0.4749850519668257)"
      ]
     },
     "execution_count": 622,
     "metadata": {},
     "output_type": "execute_result"
    }
   ],
   "source": [
    "reward"
   ]
  }
 ],
 "metadata": {
  "kernelspec": {
   "display_name": "Python 3 (ipykernel)",
   "language": "python",
   "name": "python3"
  },
  "language_info": {
   "codemirror_mode": {
    "name": "ipython",
    "version": 3
   },
   "file_extension": ".py",
   "mimetype": "text/x-python",
   "name": "python",
   "nbconvert_exporter": "python",
   "pygments_lexer": "ipython3",
   "version": "3.12.2"
  }
 },
 "nbformat": 4,
 "nbformat_minor": 5
}
