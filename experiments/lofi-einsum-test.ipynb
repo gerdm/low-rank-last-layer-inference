{
 "cells": [
  {
   "cell_type": "code",
   "execution_count": 1,
   "id": "2849da87-b675-4b62-b512-39c92cc37702",
   "metadata": {},
   "outputs": [],
   "source": [
    "import jax\n",
    "import jax.numpy as jnp"
   ]
  },
  {
   "cell_type": "code",
   "execution_count": 2,
   "id": "de1d6632-8191-4505-92c8-9b87b54699df",
   "metadata": {},
   "outputs": [],
   "source": [
    "key = jax.random.PRNGKey(314)\n",
    "key_W, key_H = jax.random.split(key)"
   ]
  },
  {
   "cell_type": "code",
   "execution_count": 3,
   "id": "17566c68-62b0-4247-938f-0ef504bcf329",
   "metadata": {},
   "outputs": [],
   "source": [
    "d, D, o = 10, 10_000, 2"
   ]
  },
  {
   "cell_type": "code",
   "execution_count": 4,
   "id": "96708828-fa3d-4e4d-8824-1c9e7a2050ce",
   "metadata": {},
   "outputs": [],
   "source": [
    "H = jax.random.normal(key_H, (o, D))\n",
    "W = jax.random.normal(key_W, (d, D))"
   ]
  },
  {
   "cell_type": "code",
   "execution_count": 1,
   "id": "83bf5a8d-3ae6-4084-82a9-f8a684c03aba",
   "metadata": {},
   "outputs": [],
   "source": [
    "# @jax.jit\n",
    "def compute_v1(H, W):\n",
    "    return H @ W.T @ W @ H.T\n",
    "\n",
    "\n",
    "# @jax.jit\n",
    "def compute_v2(H, W):\n",
    "    return jnp.einsum(\"ij,kj,kl,ml->im\", H, W, W, H, optimize=True)"
   ]
  },
  {
   "cell_type": "code",
   "execution_count": null,
   "id": "2dcb2b57-59a3-4d03-a8fe-81ae8042321a",
   "metadata": {},
   "outputs": [],
   "source": [
    "jax.make_jaxpr(compute_v1)(H, W)"
   ]
  },
  {
   "cell_type": "code",
   "execution_count": null,
   "id": "a78e2eed-ea67-46f6-b793-f97a21c08574",
   "metadata": {},
   "outputs": [],
   "source": [
    "jax.make_jaxpr(compute_v2)(H, W)"
   ]
  }
 ],
 "metadata": {
  "kernelspec": {
   "display_name": "Python 3 (ipykernel)",
   "language": "python",
   "name": "python3"
  },
  "language_info": {
   "codemirror_mode": {
    "name": "ipython",
    "version": 3
   },
   "file_extension": ".py",
   "mimetype": "text/x-python",
   "name": "python",
   "nbconvert_exporter": "python",
   "pygments_lexer": "ipython3",
   "version": "3.12.2"
  }
 },
 "nbformat": 4,
 "nbformat_minor": 5
}
